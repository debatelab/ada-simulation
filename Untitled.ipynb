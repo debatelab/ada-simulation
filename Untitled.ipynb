{
 "cells": [
  {
   "cell_type": "code",
   "execution_count": 2,
   "id": "imperial-distinction",
   "metadata": {},
   "outputs": [
    {
     "data": {
      "text/plain": [
       "[1, 2, 3, 1, 2, 3]"
      ]
     },
     "execution_count": 2,
     "metadata": {},
     "output_type": "execute_result"
    }
   ],
   "source": [
    "[1,2,3]+[1,2,3]"
   ]
  },
  {
   "cell_type": "code",
   "execution_count": 5,
   "id": "pending-heavy",
   "metadata": {},
   "outputs": [
    {
     "data": {
      "text/plain": [
       "[0.0,\n",
       " 1.0000000000000002e-10,\n",
       " 3.2000000000000005e-09,\n",
       " 2.4299999999999996e-08,\n",
       " 1.0240000000000002e-07,\n",
       " 3.125000000000001e-07,\n",
       " 7.775999999999999e-07,\n",
       " 1.6807000000000007e-06,\n",
       " 3.2768000000000005e-06,\n",
       " 5.904899999999999e-06]"
      ]
     },
     "execution_count": 5,
     "metadata": {},
     "output_type": "execute_result"
    }
   ],
   "source": [
    "[(i/100)**5 for i in range(10)]"
   ]
  },
  {
   "cell_type": "code",
   "execution_count": 6,
   "id": "legal-primary",
   "metadata": {},
   "outputs": [],
   "source": [
    "ops = [0.5437473556434513, 0.5436328029215072, 0.49010361972671856, 0.5436328029215072, 0.5460578528959769, 0.5436328029215072, 0.49010361972671856, 0.5369295054941569, 0.5267460374623704, 0.5267459782490823, 0.49611127716529846, 0.49611132748467557, 0.5636543938444486, 0.5208876090787349, 0.4311592388550722, 0.5669002353187119, 0.4311592388550722, 0.5452883852523882, 0.5636543938444486, 0.5445368282881451, 0.5030075777555382, 0.4954976041972718, 0.4389647110342997, 0.5524980156939425, 0.5436328148922179, 0.5460578535269301, 0.5460578528959769, 0.5319221703506843, 0.5462302760044259, 0.500641917586722, 0.5412229675797586, 0.5412229332947699, 0.4553937557147692, 0.5233759419470563, 0.4716075131079764]"
   ]
  },
  {
   "cell_type": "code",
   "execution_count": 20,
   "id": "dominican-bankruptcy",
   "metadata": {},
   "outputs": [
    {
     "data": {
      "text/plain": [
       "{1}"
      ]
     },
     "execution_count": 20,
     "metadata": {},
     "output_type": "execute_result"
    }
   ],
   "source": [
    "{1,2}-{2}"
   ]
  },
  {
   "cell_type": "code",
   "execution_count": 8,
   "id": "hundred-kenya",
   "metadata": {},
   "outputs": [],
   "source": [
    "opinion = ops[0]\n",
    "x0 = .48\n",
    "def conf(x):\n",
    "    c = (x-x0)/(opinion-x0)\n",
    "    c = 0 if c<0 else c\n",
    "    return c"
   ]
  },
  {
   "cell_type": "code",
   "execution_count": 12,
   "id": "assured-smile",
   "metadata": {},
   "outputs": [
    {
     "data": {
      "text/plain": [
       "3.891642276365635"
      ]
     },
     "execution_count": 12,
     "metadata": {},
     "output_type": "execute_result"
    }
   ],
   "source": [
    "conf(ops[12])**5"
   ]
  },
  {
   "cell_type": "code",
   "execution_count": 13,
   "id": "natural-sword",
   "metadata": {},
   "outputs": [
    {
     "ename": "TypeError",
     "evalue": "'NoneType' object is not iterable",
     "output_type": "error",
     "traceback": [
      "\u001b[0;31m---------------------------------------------------------------------------\u001b[0m",
      "\u001b[0;31mTypeError\u001b[0m                                 Traceback (most recent call last)",
      "\u001b[0;32m<ipython-input-13-e311f29bb25f>\u001b[0m in \u001b[0;36m<module>\u001b[0;34m\u001b[0m\n\u001b[0;32m----> 1\u001b[0;31m \u001b[0;32mfor\u001b[0m \u001b[0mi\u001b[0m \u001b[0;32min\u001b[0m \u001b[0;32mNone\u001b[0m\u001b[0;34m:\u001b[0m\u001b[0;34m\u001b[0m\u001b[0;34m\u001b[0m\u001b[0m\n\u001b[0m\u001b[1;32m      2\u001b[0m     \u001b[0mprint\u001b[0m\u001b[0;34m(\u001b[0m\u001b[0mi\u001b[0m\u001b[0;34m)\u001b[0m\u001b[0;34m\u001b[0m\u001b[0;34m\u001b[0m\u001b[0m\n",
      "\u001b[0;31mTypeError\u001b[0m: 'NoneType' object is not iterable"
     ]
    }
   ],
   "source": [
    "for i in None:\n",
    "    print(i)"
   ]
  },
  {
   "cell_type": "code",
   "execution_count": null,
   "id": "resistant-germany",
   "metadata": {},
   "outputs": [],
   "source": []
  }
 ],
 "metadata": {
  "kernelspec": {
   "display_name": "Python 3",
   "language": "python",
   "name": "python3"
  },
  "language_info": {
   "codemirror_mode": {
    "name": "ipython",
    "version": 3
   },
   "file_extension": ".py",
   "mimetype": "text/x-python",
   "name": "python",
   "nbconvert_exporter": "python",
   "pygments_lexer": "ipython3",
   "version": "3.8.5"
  }
 },
 "nbformat": 4,
 "nbformat_minor": 5
}
